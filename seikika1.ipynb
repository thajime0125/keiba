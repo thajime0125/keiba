{
 "cells": [
  {
   "cell_type": "code",
   "execution_count": 4,
   "metadata": {},
   "outputs": [],
   "source": [
    "import numpy as np\n",
    "import pandas as pd\n",
    "from sklearn import linear_model"
   ]
  },
  {
   "cell_type": "code",
   "execution_count": 7,
   "metadata": {
    "scrolled": true
   },
   "outputs": [
    {
     "data": {
      "text/plain": [
       "array([[0.23529412, 0.58823529],\n",
       "       [0.        , 0.11764706],\n",
       "       [0.11764706, 0.52941176],\n",
       "       ...,\n",
       "       [0.70588235, 0.35294118],\n",
       "       [0.64705882, 0.        ],\n",
       "       [0.52941176, 0.52941176]])"
      ]
     },
     "execution_count": 7,
     "metadata": {},
     "output_type": "execute_result"
    }
   ],
   "source": [
    "race = pd.read_csv('seikika2.csv', index_col = 0)\n",
    "X = np.array([race[\"人気\"],race[\"馬番\"],]).T\n",
    "Y = np.array(race[\"複勝\"])\n",
    "X"
   ]
  },
  {
   "cell_type": "code",
   "execution_count": 8,
   "metadata": {},
   "outputs": [],
   "source": [
    "import sklearn.model_selection\n",
    "X_train, X_test, Y_train, Y_test = sklearn.model_selection.train_test_split(X,Y)"
   ]
  },
  {
   "cell_type": "code",
   "execution_count": 152,
   "metadata": {},
   "outputs": [],
   "source": []
  },
  {
   "cell_type": "code",
   "execution_count": 9,
   "metadata": {
    "scrolled": true
   },
   "outputs": [
    {
     "name": "stdout",
     "output_type": "stream",
     "text": [
      "           着順       レース        芝ダ        距離        天候        馬場        馬番  \\\n",
      "着順   1.000000 -0.027343  0.031634 -0.068844 -0.000106  0.002975  0.107754   \n",
      "レース -0.027343  1.000000 -0.221910  0.111257  0.032705 -0.086623 -0.026878   \n",
      "芝ダ   0.031634 -0.221910  1.000000 -0.196187 -0.016171  0.207620  0.033891   \n",
      "距離  -0.068844  0.111257 -0.196187  1.000000 -0.007779 -0.054548 -0.067459   \n",
      "天候  -0.000106  0.032705 -0.016171 -0.007779  1.000000  0.294882  0.000201   \n",
      "馬場   0.002975 -0.086623  0.207620 -0.054548  0.294882  1.000000  0.003800   \n",
      "馬番   0.107754 -0.026878  0.033891 -0.067459  0.000201  0.003800  1.000000   \n",
      "斤量  -0.091578  0.269987  0.083821  0.129446 -0.013428  0.008665 -0.003982   \n",
      "単勝   0.465998 -0.114557  0.008603 -0.018526 -0.012397  0.003568  0.058903   \n",
      "人気   0.589813 -0.027591  0.032804 -0.068851  0.000633  0.003453  0.087036   \n",
      "馬体重 -0.075837  0.225017  0.202723  0.127655 -0.000411  0.029945 -0.014855   \n",
      "増減  -0.010507  0.017221  0.000389 -0.013686  0.021883  0.016044 -0.005959   \n",
      "複勝   0.683868 -0.010588  0.020274 -0.028363 -0.000157  0.002495  0.040446   \n",
      "オッズ  0.465998 -0.114557  0.008603 -0.018526 -0.012397  0.003568  0.058903   \n",
      "順位   1.000000 -0.027343  0.031634 -0.068844 -0.000106  0.002975  0.107754   \n",
      "\n",
      "           斤量        単勝        人気       馬体重        増減        複勝       オッズ  \\\n",
      "着順  -0.091578  0.465998  0.589813 -0.075837 -0.010507  0.683868  0.465998   \n",
      "レース  0.269987 -0.114557 -0.027591  0.225017  0.017221 -0.010588 -0.114557   \n",
      "芝ダ   0.083821  0.008603  0.032804  0.202723  0.000389  0.020274  0.008603   \n",
      "距離   0.129446 -0.018526 -0.068851  0.127655 -0.013686 -0.028363 -0.018526   \n",
      "天候  -0.013428 -0.012397  0.000633 -0.000411  0.021883 -0.000157 -0.012397   \n",
      "馬場   0.008665  0.003568  0.003453  0.029945  0.016044  0.002495  0.003568   \n",
      "馬番  -0.003982  0.058903  0.087036 -0.014855 -0.005959  0.040446  0.058903   \n",
      "斤量   1.000000 -0.131380 -0.118827  0.372177  0.012436 -0.058225 -0.131380   \n",
      "単勝  -0.131380  1.000000  0.741111 -0.160129 -0.035600  0.283127  1.000000   \n",
      "人気  -0.118827  0.741111  1.000000 -0.144522 -0.025744  0.428904  0.741111   \n",
      "馬体重  0.372177 -0.160129 -0.144522  1.000000  0.119273 -0.060359 -0.160129   \n",
      "増減   0.012436 -0.035600 -0.025744  0.119273  1.000000 -0.012797 -0.035600   \n",
      "複勝  -0.058225  0.283127  0.428904 -0.060359 -0.012797  1.000000  0.283127   \n",
      "オッズ -0.131380  1.000000  0.741111 -0.160129 -0.035600  0.283127  1.000000   \n",
      "順位  -0.091578  0.465998  0.589813 -0.075837 -0.010507  0.683868  0.465998   \n",
      "\n",
      "           順位  \n",
      "着順   1.000000  \n",
      "レース -0.027343  \n",
      "芝ダ   0.031634  \n",
      "距離  -0.068844  \n",
      "天候  -0.000106  \n",
      "馬場   0.002975  \n",
      "馬番   0.107754  \n",
      "斤量  -0.091578  \n",
      "単勝   0.465998  \n",
      "人気   0.589813  \n",
      "馬体重 -0.075837  \n",
      "増減  -0.010507  \n",
      "複勝   0.683868  \n",
      "オッズ  0.465998  \n",
      "順位   1.000000  \n"
     ]
    }
   ],
   "source": [
    "print(race.corr())"
   ]
  },
  {
   "cell_type": "code",
   "execution_count": 154,
   "metadata": {},
   "outputs": [
    {
     "data": {
      "text/plain": [
       "(7663, 4)"
      ]
     },
     "execution_count": 154,
     "metadata": {},
     "output_type": "execute_result"
    }
   ],
   "source": [
    "X_test.shape"
   ]
  },
  {
   "cell_type": "code",
   "execution_count": 155,
   "metadata": {},
   "outputs": [
    {
     "data": {
      "text/plain": [
       "(22987, 4)"
      ]
     },
     "execution_count": 155,
     "metadata": {},
     "output_type": "execute_result"
    }
   ],
   "source": [
    "X_train.shape"
   ]
  },
  {
   "cell_type": "code",
   "execution_count": 10,
   "metadata": {},
   "outputs": [
    {
     "data": {
      "text/plain": [
       "LinearRegression(copy_X=True, fit_intercept=True, n_jobs=None, normalize=False)"
      ]
     },
     "execution_count": 10,
     "metadata": {},
     "output_type": "execute_result"
    }
   ],
   "source": [
    "kaiki = linear_model.LinearRegression()\n",
    "kaiki.fit(X_train, Y_train)"
   ]
  },
  {
   "cell_type": "code",
   "execution_count": 11,
   "metadata": {},
   "outputs": [
    {
     "name": "stdout",
     "output_type": "stream",
     "text": [
      "0.185250640744825\n"
     ]
    }
   ],
   "source": [
    "print(kaiki.score(X_train,Y_train))"
   ]
  },
  {
   "cell_type": "code",
   "execution_count": 12,
   "metadata": {},
   "outputs": [
    {
     "name": "stdout",
     "output_type": "stream",
     "text": [
      "0.1800481748024465\n"
     ]
    }
   ],
   "source": [
    "print(kaiki.score(X_test,Y_test))"
   ]
  },
  {
   "cell_type": "code",
   "execution_count": 143,
   "metadata": {},
   "outputs": [
    {
     "data": {
      "text/plain": [
       "array([[0.40604369],\n",
       "       [0.17681102],\n",
       "       [0.28425857],\n",
       "       [0.5064236 ],\n",
       "       [0.51227182],\n",
       "       [0.39861161],\n",
       "       [0.3467328 ],\n",
       "       [0.28189284],\n",
       "       [0.40323468],\n",
       "       [0.46046872],\n",
       "       [0.30116576],\n",
       "       [0.20440774],\n",
       "       [0.45896473],\n",
       "       [0.32214442],\n",
       "       [0.17326369],\n",
       "       [0.36943528],\n",
       "       [0.46083604],\n",
       "       [0.16989027],\n",
       "       [0.42001054],\n",
       "       [0.45526916]])"
      ]
     },
     "execution_count": 143,
     "metadata": {},
     "output_type": "execute_result"
    }
   ],
   "source": [
    "sum = 0\n",
    "for test in X_test:\n",
    "    if kaiki.predict(test) < 2:\n",
    "        if X_test.着順 == 0:\n",
    "            sum+=100*X_test\n",
    "\n",
    "kaiki.predict(X_test[60:80])"
   ]
  },
  {
   "cell_type": "code",
   "execution_count": 147,
   "metadata": {},
   "outputs": [
    {
     "data": {
      "text/plain": [
       "(7663, 1)"
      ]
     },
     "execution_count": 147,
     "metadata": {},
     "output_type": "execute_result"
    }
   ],
   "source": [
    "Y_test.shape"
   ]
  },
  {
   "cell_type": "code",
   "execution_count": 159,
   "metadata": {},
   "outputs": [
    {
     "data": {
      "text/plain": [
       "0.1176470588235294"
      ]
     },
     "execution_count": 159,
     "metadata": {},
     "output_type": "execute_result"
    }
   ],
   "source": [
    "Y_test[0]"
   ]
  },
  {
   "cell_type": "code",
   "execution_count": 160,
   "metadata": {},
   "outputs": [
    {
     "data": {
      "text/plain": [
       "array([[0.05882353, 0.05882353, 0.72727273, 0.00387125],\n",
       "       [0.17647059, 0.17647059, 0.63636364, 0.00818494],\n",
       "       [0.        , 0.11764706, 0.81818182, 0.00132729],\n",
       "       ...,\n",
       "       [0.41176471, 0.76470588, 0.54545455, 0.05054751],\n",
       "       [0.58823529, 0.23529412, 0.81818182, 0.06957195],\n",
       "       [0.        , 0.17647059, 0.81818182, 0.00143789]])"
      ]
     },
     "execution_count": 160,
     "metadata": {},
     "output_type": "execute_result"
    }
   ],
   "source": [
    "X_test"
   ]
  },
  {
   "cell_type": "code",
   "execution_count": null,
   "metadata": {},
   "outputs": [],
   "source": []
  }
 ],
 "metadata": {
  "kernelspec": {
   "display_name": "Python 3",
   "language": "python",
   "name": "python3"
  },
  "language_info": {
   "codemirror_mode": {
    "name": "ipython",
    "version": 3
   },
   "file_extension": ".py",
   "mimetype": "text/x-python",
   "name": "python",
   "nbconvert_exporter": "python",
   "pygments_lexer": "ipython3",
   "version": "3.7.5"
  }
 },
 "nbformat": 4,
 "nbformat_minor": 2
}
